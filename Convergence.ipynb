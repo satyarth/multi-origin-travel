{
 "cells": [
  {
   "cell_type": "code",
   "execution_count": 1,
   "metadata": {
    "collapsed": true
   },
   "outputs": [],
   "source": [
    "from branch_and_bound import solve_branch_and_bound"
   ]
  },
  {
   "cell_type": "code",
   "execution_count": 3,
   "metadata": {
    "collapsed": true
   },
   "outputs": [],
   "source": [
    "from time import time\n",
    "\n",
    "def convergence(outbound, inbound, origins, timeout):\n",
    "    times = []\n",
    "    prices = []\n",
    "    \n",
    "    start = time()\n",
    "    \n",
    "    def solution_callback(solution):\n",
    "        prices.append(solution.price)\n",
    "        times.append(time() - start)\n",
    "        \n",
    "    def stop_callback():\n",
    "        if time() - start > timeout:\n",
    "            return True\n",
    "        else:\n",
    "            return False\n",
    "    \n",
    "    solve_branch_and_bound(outbound, inbound, origins, \n",
    "                           solution_callback=solution_callback, stop_callback=stop_callback)\n",
    "    \n",
    "    return times, prices"
   ]
  },
  {
   "cell_type": "code",
   "execution_count": 9,
   "metadata": {
    "collapsed": false
   },
   "outputs": [],
   "source": [
    "times, prices = convergence('anytime', 'anytime', ['MOW', 'LON'], 60)"
   ]
  },
  {
   "cell_type": "code",
   "execution_count": 10,
   "metadata": {
    "collapsed": true
   },
   "outputs": [],
   "source": [
    "import matplotlib.pyplot as plt\n",
    "%matplotlib inline"
   ]
  },
  {
   "cell_type": "code",
   "execution_count": 16,
   "metadata": {
    "collapsed": false
   },
   "outputs": [
    {
     "data": {
      "image/png": "[encoded data removed]",
      "text/plain": [
       "<matplotlib.figure.Figure at 0x7fd005a3b630>"
      ]
     },
     "metadata": {},
     "output_type": "display_data"
    }
   ],
   "source": [
    "for outbound, inbound, origins, label in [('anytime', 'anytime', ['MOW', 'LON'], 'Moscow and London, anytime'), \n",
    "                                          ('anytime', 'anytime', ['BERL', 'RIGA', 'BUDA'], 'Berlin, Riga and Budapest, anytime'),\n",
    "                                          ('2018-02', '2018-02', ['BRUS', 'LON'], 'Brussels and London, Febuary'),\n",
    "                                          ('2018-02-01', '2018-02-03', ['BRUS', 'LON'], 'Brussels and London, Febuary 1-3')]:\n",
    "    times, prices = convergence(outbound, inbound, origins, 60)\n",
    "    \n",
    "    plt.xlabel('Time elapsed, sec')\n",
    "    plt.ylabel('Total flight price')\n",
    "    plt.plot(times, prices, label=label)"
   ]
  },
  {
   "cell_type": "code",
   "execution_count": null,
   "metadata": {
    "collapsed": true
   },
   "outputs": [],
   "source": []
  }
 ],
 "metadata": {
  "kernelspec": {
   "display_name": "Python 3",
   "language": "python",
   "name": "python3"
  },
  "language_info": {
   "codemirror_mode": {
    "name": "ipython",
    "version": 3
   },
   "file_extension": ".py",
   "mimetype": "text/x-python",
   "name": "python",
   "nbconvert_exporter": "python",
   "pygments_lexer": "ipython3",
   "version": "3.6.0"
  }
 },
 "nbformat": 4,
 "nbformat_minor": 2
}

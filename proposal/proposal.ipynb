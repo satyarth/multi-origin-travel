{
 "cells": [
  {
   "cell_type": "markdown",
   "metadata": {},
   "source": [
    "#### Project Name: \n",
    "\n",
    "Optimization of multi-origin travel"
   ]
  },
  {
   "cell_type": "markdown",
   "metadata": {},
   "source": [
    "#### Team:\n",
    "\n",
    "1. Artur Grigorev\n",
    "2. Phan Van Duc\n",
    "3. Satyarth Mishra Sharma (Team Leader)\n",
    "4. Shreya Santra\n",
    "5. Vadim Liventsev\n"
   ]
  },
  {
   "cell_type": "markdown",
   "metadata": {},
   "source": [
    "#### Background: \n",
    "\n",
    "If friends living in different parts of the worlds plan to spend a vacation together within a limited budget, it is extremely difficult to chose a common destination as flight prices may be very high from one origin and cheaper from another. Therefore, we want to create an optimized platform which will suggest a common destination at the cheapest price from multiple airports at the cheapest price. It will also take into account the preferred arrival and departure times of each individual.\n"
   ]
  },
  {
   "cell_type": "markdown",
   "metadata": {},
   "source": [
    "#### Problem Formulation:\n",
    "* Specify necessary equations/models\n",
    "\n",
    "Genetic Algorithm may be employed for multiple parameters search \n"
   ]
  },
  {
   "cell_type": "markdown",
   "metadata": {},
   "source": [
    "#### Data:\n",
    "\n",
    "Data sets can be imported from [SkyScanner](https://www.skyscanner.ru/) API or [similar](https://support.travelpayouts.com/hc/en-us/sections/201008338-Data-Access-API) meta flight search engines."
   ]
  },
  {
   "cell_type": "markdown",
   "metadata": {},
   "source": [
    "#### Related Work\n",
    "\n",
    "Similar platforms in beta versions exist\n",
    "[Couple-flights](http://couple-flights.com/) and [TripMatch](https://www.tripmatch.org/#/)"
   ]
  },
  {
   "cell_type": "markdown",
   "metadata": {},
   "source": [
    "#### Scope\n",
    "\n",
    "* What will be the end result? Describe phases undertaken"
   ]
  },
  {
   "cell_type": "markdown",
   "metadata": {},
   "source": [
    "#### Evaluation\n",
    "\n",
    "* How do you measure the performance of your solution? Include the baselines\n",
    "\n",
    "The evaluation will be based on how well the platform performs indexing, ranking and query serving."
   ]
  },
  {
   "cell_type": "markdown",
   "metadata": {},
   "source": [
    "#### References"
   ]
  }
 ],
 "metadata": {
  "kernelspec": {
   "display_name": "Python 3",
   "language": "python",
   "name": "python3"
  },
  "language_info": {
   "codemirror_mode": {
    "name": "ipython",
    "version": 3
   },
   "file_extension": ".py",
   "mimetype": "text/x-python",
   "name": "python",
   "nbconvert_exporter": "python",
   "pygments_lexer": "ipython3",
   "version": "3.6.3"
  }
 },
 "nbformat": 4,
 "nbformat_minor": 2
}
